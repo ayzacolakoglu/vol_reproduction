{
 "cells": [
  {
   "cell_type": "markdown",
   "id": "80271290",
   "metadata": {},
   "source": [
    "Testing sequence generation\n"
   ]
  },
  {
   "cell_type": "code",
   "execution_count": 2,
   "id": "7bde34e9",
   "metadata": {},
   "outputs": [],
   "source": [
    "import numpy as np\n",
    "import pandas as pd\n",
    "\n",
    "#generate sequence\n",
    "low = 600 #ms\n",
    "high = 1800 #ms\n",
    "step = 16.67 #ms for 60Hz refresh rate\n",
    "n_trl = 100\n",
    "\n",
    "w = np.cumsum(np.random.randn(n_trl)) #random walk\n",
    "w = (w - w.mean()) / w.std() #normalization\n",
    "w = (w - w.min()) / (w.max() - w.min()) * (high - low) + low # to low-high range\n",
    "w = np.round(w / step) * step #round to the refresh time\n",
    "\n",
    "w1 = np.round(w) #random walk round - low\n",
    "w2 = np.random.permutation(w1) #shuffled - high\n",
    "\n",
    "    \n",
    "# choose block order\n",
    "if np.random.rand() < 0.5:\n",
    "    durations = np.concatenate([w1, w2])\n",
    "    labels    = ['low'] * n_trl + ['high'] * n_trl\n",
    "else:\n",
    "    durations = np.concatenate([w2, w1])\n",
    "    labels    = ['high'] * n_trl + ['low'] * n_trl\n",
    "\n",
    "# Practice trials\n",
    "practice_count = 10\n",
    "practice_options = [1100, 1200, 1300]\n",
    "practice_durations = np.random.choice(practice_options,\n",
    "        size=practice_count,replace=True).tolist()\n",
    "practice_labels = ['practice'] * practice_count\n",
    "\n",
    "# Combine practice + blocks\n",
    "durations = practice_durations + durations.tolist()\n",
    "labels = practice_labels + labels\n",
    "\n",
    "df = pd.DataFrame({\n",
    "    'trlno':         np.arange(1, 2*n_trl + 1 + practice_count),\n",
    "    'duration':   durations,\n",
    "    'stochasticity': labels\n",
    "})\n"
   ]
  },
  {
   "cell_type": "code",
   "execution_count": 3,
   "id": "b9717528",
   "metadata": {},
   "outputs": [
    {
     "data": {
      "application/vnd.microsoft.datawrangler.viewer.v0+json": {
       "columns": [
        {
         "name": "index",
         "rawType": "int64",
         "type": "integer"
        },
        {
         "name": "trlno",
         "rawType": "int64",
         "type": "integer"
        },
        {
         "name": "duration",
         "rawType": "float64",
         "type": "float"
        },
        {
         "name": "stochasticity",
         "rawType": "object",
         "type": "string"
        }
       ],
       "conversionMethod": "pd.DataFrame",
       "ref": "8bffcfc0-d4d1-4d2f-a147-74d4025bc018",
       "rows": [
        [
         "0",
         "1",
         "1300.0",
         "practice"
        ],
        [
         "1",
         "2",
         "1100.0",
         "practice"
        ],
        [
         "2",
         "3",
         "1300.0",
         "practice"
        ],
        [
         "3",
         "4",
         "1200.0",
         "practice"
        ],
        [
         "4",
         "5",
         "1200.0",
         "practice"
        ]
       ],
       "shape": {
        "columns": 3,
        "rows": 5
       }
      },
      "text/html": [
       "<div>\n",
       "<style scoped>\n",
       "    .dataframe tbody tr th:only-of-type {\n",
       "        vertical-align: middle;\n",
       "    }\n",
       "\n",
       "    .dataframe tbody tr th {\n",
       "        vertical-align: top;\n",
       "    }\n",
       "\n",
       "    .dataframe thead th {\n",
       "        text-align: right;\n",
       "    }\n",
       "</style>\n",
       "<table border=\"1\" class=\"dataframe\">\n",
       "  <thead>\n",
       "    <tr style=\"text-align: right;\">\n",
       "      <th></th>\n",
       "      <th>trlno</th>\n",
       "      <th>duration</th>\n",
       "      <th>stochasticity</th>\n",
       "    </tr>\n",
       "  </thead>\n",
       "  <tbody>\n",
       "    <tr>\n",
       "      <th>0</th>\n",
       "      <td>1</td>\n",
       "      <td>1300.0</td>\n",
       "      <td>practice</td>\n",
       "    </tr>\n",
       "    <tr>\n",
       "      <th>1</th>\n",
       "      <td>2</td>\n",
       "      <td>1100.0</td>\n",
       "      <td>practice</td>\n",
       "    </tr>\n",
       "    <tr>\n",
       "      <th>2</th>\n",
       "      <td>3</td>\n",
       "      <td>1300.0</td>\n",
       "      <td>practice</td>\n",
       "    </tr>\n",
       "    <tr>\n",
       "      <th>3</th>\n",
       "      <td>4</td>\n",
       "      <td>1200.0</td>\n",
       "      <td>practice</td>\n",
       "    </tr>\n",
       "    <tr>\n",
       "      <th>4</th>\n",
       "      <td>5</td>\n",
       "      <td>1200.0</td>\n",
       "      <td>practice</td>\n",
       "    </tr>\n",
       "  </tbody>\n",
       "</table>\n",
       "</div>"
      ],
      "text/plain": [
       "   trlno  duration stochasticity\n",
       "0      1    1300.0      practice\n",
       "1      2    1100.0      practice\n",
       "2      3    1300.0      practice\n",
       "3      4    1200.0      practice\n",
       "4      5    1200.0      practice"
      ]
     },
     "execution_count": 3,
     "metadata": {},
     "output_type": "execute_result"
    }
   ],
   "source": [
    "df.head()"
   ]
  }
 ],
 "metadata": {
  "kernelspec": {
   "display_name": "base",
   "language": "python",
   "name": "python3"
  },
  "language_info": {
   "codemirror_mode": {
    "name": "ipython",
    "version": 3
   },
   "file_extension": ".py",
   "mimetype": "text/x-python",
   "name": "python",
   "nbconvert_exporter": "python",
   "pygments_lexer": "ipython3",
   "version": "3.11.7"
  }
 },
 "nbformat": 4,
 "nbformat_minor": 5
}
